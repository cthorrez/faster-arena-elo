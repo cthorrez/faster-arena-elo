{
 "cells": [
  {
   "cell_type": "code",
   "execution_count": 1,
   "metadata": {},
   "outputs": [],
   "source": [
    "import argparse\n",
    "import os\n",
    "import time\n",
    "import requests\n",
    "import numpy as np\n",
    "import pandas as pd\n",
    "from functools import partial\n",
    "from original import get_bootstrap_result as og_bootstrap, compute_mle_elo as og_mle\n",
    "from faster import get_bootstrap_result as fast_bootstrap, compute_mle_elo as fast_mle"
   ]
  },
  {
   "cell_type": "code",
   "execution_count": 2,
   "metadata": {},
   "outputs": [
    {
     "name": "stdout",
     "output_type": "stream",
     "text": [
      "Before dedup:  1799991\n",
      "After dedup:  1670250\n"
     ]
    }
   ],
   "source": [
    "# load and filter the data, same logic as from the original notebook\n",
    "# https://colab.research.google.com/drive/1KdwokPjirkTmpO_P1WByFNFiqxWQquwH#scrollTo=EZvUIOhVZD27\n",
    "url = \"https://storage.googleapis.com/arena_external_data/public/clean_battle_20240814_public.json\"\n",
    "response = requests.get(url)\n",
    "\n",
    "with open('local_file_name.json', 'wb') as file:\n",
    "    file.write(response.content)\n",
    "\n",
    "# load the JSON data from the local file\n",
    "with open('local_file_name.json', 'r') as file:\n",
    "    battles = pd.read_json(file).sort_values(ascending=True, by=[\"tstamp\"])\n",
    "\n",
    "# we use anony battles only for leaderboard\n",
    "battles = battles[battles[\"anony\"] == True]\n",
    "\n",
    "# we de-duplicate top 0.1% redudant prompts\n",
    "# see https://lmsys.org/blog/2024-05-17-category-hard/#note-enhancing-quality-through-de-duplication\n",
    "print(\"Before dedup: \", len(battles))\n",
    "battles = battles[battles[\"dedup_tag\"].apply(lambda x: x.get(\"sampled\", False))]\n",
    "print(\"After dedup: \", len(battles))"
   ]
  },
  {
   "cell_type": "code",
   "execution_count": 3,
   "metadata": {},
   "outputs": [],
   "source": [
    "# First compare MLE directly with MLE\n",
    "original_ratings = og_mle(battles)"
   ]
  },
  {
   "cell_type": "code",
   "execution_count": 4,
   "metadata": {},
   "outputs": [],
   "source": [
    "# ironically this is slower than the original\n",
    "# this is because it does some one-time preprocessing to make all the subsequent bootstrap calls **much** faster\n",
    "fast_ratings = fast_mle(battles)"
   ]
  },
  {
   "cell_type": "code",
   "execution_count": 5,
   "metadata": {},
   "outputs": [
    {
     "name": "stdout",
     "output_type": "stream",
     "text": [
      "mean absolute difference: 7.167734795018973e-11\n"
     ]
    }
   ],
   "source": [
    "mean_abs_rating_diff = np.mean(np.abs(original_ratings.values - fast_ratings.values))\n",
    "print(f'mean absolute difference: {mean_abs_rating_diff}')"
   ]
  },
  {
   "cell_type": "code",
   "execution_count": 6,
   "metadata": {},
   "outputs": [
    {
     "name": "stderr",
     "output_type": "stream",
     "text": [
      "bootstrap:   0%|          | 0/100 [00:00<?, ?it/s]"
     ]
    },
    {
     "name": "stderr",
     "output_type": "stream",
     "text": [
      "bootstrap: 100%|██████████| 100/100 [19:43<00:00, 11.83s/it]\n"
     ]
    }
   ],
   "source": [
    "# next look at the bootstrap\n",
    "original_bootstrap_ratings = og_bootstrap(battles, og_mle, 100)"
   ]
  },
  {
   "cell_type": "code",
   "execution_count": 7,
   "metadata": {},
   "outputs": [],
   "source": [
    "fast_bootstrap_ratings = fast_bootstrap(battles, 100)"
   ]
  },
  {
   "cell_type": "code",
   "execution_count": 8,
   "metadata": {},
   "outputs": [
    {
     "name": "stdout",
     "output_type": "stream",
     "text": [
      "mean abs diff of means: 0.3105859687304655\n",
      "mean abs diff of stds: 0.24714694090303316\n"
     ]
    }
   ],
   "source": [
    "og_bootstrap_mean = original_bootstrap_ratings.values.mean(axis=0)\n",
    "og_bootstrap_std = original_bootstrap_ratings.values.std(axis=0)\n",
    "# they are sorted by median they could be in different order due to randomness\n",
    "fast_bootstrap_mean = fast_bootstrap_ratings[original_bootstrap_ratings.columns].values.mean(axis=0)\n",
    "fast_bootstrap_std = fast_bootstrap_ratings[original_bootstrap_ratings.columns].values.std(axis=0)\n",
    "\n",
    "print(f'mean abs diff of means: {np.mean(np.abs(og_bootstrap_mean - fast_bootstrap_mean))}')\n",
    "print(f'mean abs diff of stds: {np.mean(np.abs(og_bootstrap_std - fast_bootstrap_std))}')"
   ]
  },
  {
   "cell_type": "code",
   "execution_count": 9,
   "metadata": {},
   "outputs": [
    {
     "name": "stderr",
     "output_type": "stream",
     "text": [
      "bootstrap:   0%|          | 0/200 [00:00<?, ?it/s]"
     ]
    },
    {
     "name": "stderr",
     "output_type": "stream",
     "text": [
      "bootstrap: 100%|██████████| 200/200 [35:36<00:00, 10.68s/it]\n"
     ]
    }
   ],
   "source": [
    "# check if the difference is smaller with more samples\n",
    "original_bootstrap_ratings2 = og_bootstrap(battles, og_mle, 200)\n",
    "fast_bootstrap_ratings2 = fast_bootstrap(battles, 200)"
   ]
  },
  {
   "cell_type": "code",
   "execution_count": 10,
   "metadata": {},
   "outputs": [
    {
     "name": "stdout",
     "output_type": "stream",
     "text": [
      "mean abs diff of means: 0.18536835223940057\n",
      "mean abs diff of stds: 0.18313215115635942\n"
     ]
    }
   ],
   "source": [
    "og_bootstrap_mean2 = original_bootstrap_ratings2.values.mean(axis=0)\n",
    "og_bootstrap_std2 = original_bootstrap_ratings2.values.std(axis=0)\n",
    "# they are sorted by median they could be in different order due to randomness\n",
    "fast_bootstrap_mean2 = fast_bootstrap_ratings2[original_bootstrap_ratings2.columns].values.mean(axis=0)\n",
    "fast_bootstrap_std2 = fast_bootstrap_ratings2[original_bootstrap_ratings2.columns].values.std(axis=0)\n",
    "\n",
    "print(f'mean abs diff of means: {np.mean(np.abs(og_bootstrap_mean2 - fast_bootstrap_mean2))}')\n",
    "print(f'mean abs diff of stds: {np.mean(np.abs(og_bootstrap_std2 - fast_bootstrap_std2))}')"
   ]
  }
 ],
 "metadata": {
  "kernelspec": {
   "display_name": "arena",
   "language": "python",
   "name": "python3"
  },
  "language_info": {
   "codemirror_mode": {
    "name": "ipython",
    "version": 3
   },
   "file_extension": ".py",
   "mimetype": "text/x-python",
   "name": "python",
   "nbconvert_exporter": "python",
   "pygments_lexer": "ipython3",
   "version": "3.10.12"
  }
 },
 "nbformat": 4,
 "nbformat_minor": 2
}
