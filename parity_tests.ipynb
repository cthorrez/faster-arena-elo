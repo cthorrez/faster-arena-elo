{
 "cells": [
  {
   "cell_type": "code",
   "execution_count": 1,
   "metadata": {},
   "outputs": [],
   "source": [
    "import argparse\n",
    "import os\n",
    "import time\n",
    "import requests\n",
    "import numpy as np\n",
    "import pandas as pd\n",
    "from functools import partial\n",
    "from original import get_bootstrap_result as og_bootstrap, compute_mle_elo as og_mle\n",
    "from faster import get_bootstrap_result as fast_bootstrap, compute_mle_elo as fast_mle"
   ]
  },
  {
   "cell_type": "code",
   "execution_count": 2,
   "metadata": {},
   "outputs": [],
   "source": [
    "# load and filter the data, same logic as from the original notebook\n",
    "# \n",
    "url = \"https://storage.googleapis.com/arena_external_data/public/clean_battle_20240814_public.json\"\n",
    "response = requests.get(url)\n",
    "\n",
    "with open('local_file_name.json', 'wb') as file:\n",
    "    file.write(response.content)\n",
    "\n",
    "# load the JSON data from the local file\n",
    "with open('local_file_name.json', 'r') as file:\n",
    "    battles = pd.read_json(file).sort_values(ascending=True, by=[\"tstamp\"])"
   ]
  },
  {
   "cell_type": "code",
   "execution_count": null,
   "metadata": {},
   "outputs": [],
   "source": []
  }
 ],
 "metadata": {
  "kernelspec": {
   "display_name": "arena",
   "language": "python",
   "name": "python3"
  },
  "language_info": {
   "codemirror_mode": {
    "name": "ipython",
    "version": 3
   },
   "file_extension": ".py",
   "mimetype": "text/x-python",
   "name": "python",
   "nbconvert_exporter": "python",
   "pygments_lexer": "ipython3",
   "version": "3.10.12"
  }
 },
 "nbformat": 4,
 "nbformat_minor": 2
}
